{
 "cells": [
  {
   "cell_type": "code",
   "execution_count": 1,
   "metadata": {},
   "outputs": [
    {
     "name": "stdout",
     "output_type": "stream",
     "text": [
      "\n"
     ]
    }
   ],
   "source": [
    "from sympy import *\n",
    "init_session(quiet = True)\n",
    "import matplotlib.pyplot as plt\n",
    "%matplotlib inline\n",
    "import numpy as np"
   ]
  },
  {
   "cell_type": "markdown",
   "metadata": {},
   "source": [
    "# Aproximación de soluciones de SEL mediante métodos númericos\n",
    "\n",
    "En el presente cuaderno de Jupyter se realizará un acercamiento a 3 métodos para aproximar soluciones a sistemas de ecuaciones lineales heterogéneos. Estaremos usando el sistema de ecuaciones lineales:\n",
    "\n",
    "$$4x_{1}−x_{2}−x_{4}=0$$\n",
    "\n",
    "$$−x_{1}+4x_{2}−x_{3}−x_{5}=5$$\n",
    "\n",
    "$$−x_{2}+4x_{3}−x_{6}=0$$\n",
    "\n",
    "$$−x_{1}+4x_{4}−x_{5}=6$$\n",
    "\n",
    "$$−x_{2}−x_{4}+4x_{5}−x_{6}=−2$$\n",
    "\n",
    "$$−x_{3}−x_{5}+4x_{6}=6$$"
   ]
  },
  {
   "cell_type": "markdown",
   "metadata": {},
   "source": [
    "# Sobre la bibliografía\n",
    "\n",
    "Toda la teoría aquí presentada se sustena en el libro Numerical Methods for Engineers: With Software and Programming Applications por Steven C. Chapra, Raymond P. Canale, el cual es la bibliografía presentada en el PDF de la actividad."
   ]
  },
  {
   "cell_type": "markdown",
   "metadata": {},
   "source": [
    "# Almacenando el SEL en una matriz\n",
    "\n",
    "Con la ayuda de los objetos $Matrix$ de la libreria Sympy, almacenaremos el sistema de ecuaciones lineales en una matriz, de manera que sea más comodo trabajar con el sistema."
   ]
  },
  {
   "cell_type": "code",
   "execution_count": 2,
   "metadata": {},
   "outputs": [
    {
     "data": {
      "text/latex": [
       "$\\displaystyle \\left[\\begin{matrix}4 & -1 & 0 & -1 & 0 & 0 & 0\\\\-1 & 4 & -1 & 0 & -1 & 0 & 5\\\\0 & -1 & 4 & 0 & 0 & -1 & 0\\\\-1 & 0 & 0 & 4 & -1 & 0 & 6\\\\0 & -1 & 0 & -1 & 4 & -1 & -2\\\\0 & 0 & -1 & 0 & -1 & 4 & 6\\end{matrix}\\right]$"
      ],
      "text/plain": [
       "⎡4   -1  0   -1  0   0   0 ⎤\n",
       "⎢                          ⎥\n",
       "⎢-1  4   -1  0   -1  0   5 ⎥\n",
       "⎢                          ⎥\n",
       "⎢0   -1  4   0   0   -1  0 ⎥\n",
       "⎢                          ⎥\n",
       "⎢-1  0   0   4   -1  0   6 ⎥\n",
       "⎢                          ⎥\n",
       "⎢0   -1  0   -1  4   -1  -2⎥\n",
       "⎢                          ⎥\n",
       "⎣0   0   -1  0   -1  4   6 ⎦"
      ]
     },
     "execution_count": 2,
     "metadata": {},
     "output_type": "execute_result"
    }
   ],
   "source": [
    "SEL = Matrix([[ 4, -1,  0, -1,  0,  0, 0],\n",
    "              [-1,  4, -1,  0, -1,  0, 5],\n",
    "              [ 0, -1,  4,  0,  0, -1, 0],\n",
    "              [-1,  0,  0,  4, -1,  0, 6],\n",
    "              [ 0, -1,  0, -1,  4, -1,-2],\n",
    "              [ 0,  0, -1,  0, -1,  4, 6]])\n",
    "SEL"
   ]
  },
  {
   "cell_type": "markdown",
   "metadata": {},
   "source": [
    "# Obteniendo la matriz $A$\n",
    "\n",
    "Primero, obtenemos la matriz de coeficientes usando las propiedades de 'slicing' de la libreria Sympy."
   ]
  },
  {
   "cell_type": "code",
   "execution_count": 3,
   "metadata": {
    "scrolled": true
   },
   "outputs": [
    {
     "name": "stdout",
     "output_type": "stream",
     "text": [
      "Matriz A: \n"
     ]
    },
    {
     "data": {
      "text/latex": [
       "$\\displaystyle \\left[\\begin{matrix}4 & -1 & 0 & -1 & 0 & 0\\\\-1 & 4 & -1 & 0 & -1 & 0\\\\0 & -1 & 4 & 0 & 0 & -1\\\\-1 & 0 & 0 & 4 & -1 & 0\\\\0 & -1 & 0 & -1 & 4 & -1\\\\0 & 0 & -1 & 0 & -1 & 4\\end{matrix}\\right]$"
      ],
      "text/plain": [
       "⎡4   -1  0   -1  0   0 ⎤\n",
       "⎢                      ⎥\n",
       "⎢-1  4   -1  0   -1  0 ⎥\n",
       "⎢                      ⎥\n",
       "⎢0   -1  4   0   0   -1⎥\n",
       "⎢                      ⎥\n",
       "⎢-1  0   0   4   -1  0 ⎥\n",
       "⎢                      ⎥\n",
       "⎢0   -1  0   -1  4   -1⎥\n",
       "⎢                      ⎥\n",
       "⎣0   0   -1  0   -1  4 ⎦"
      ]
     },
     "execution_count": 3,
     "metadata": {},
     "output_type": "execute_result"
    }
   ],
   "source": [
    "A = SEL[:, :-1]\n",
    "print('Matriz A: ')\n",
    "A"
   ]
  },
  {
   "cell_type": "markdown",
   "metadata": {},
   "source": [
    "# Obteniendo el vector $b$\n",
    "\n",
    "Ahora, obtendremos el vector $b$ correspondiente al sistema de ecuaciones lineales. También usaremos las propiedades de slicing de la libreria Sympy."
   ]
  },
  {
   "cell_type": "code",
   "execution_count": 4,
   "metadata": {
    "scrolled": true
   },
   "outputs": [
    {
     "name": "stdout",
     "output_type": "stream",
     "text": [
      "Vector b: \n"
     ]
    },
    {
     "data": {
      "text/latex": [
       "$\\displaystyle \\left[\\begin{matrix}0\\\\5\\\\0\\\\6\\\\-2\\\\6\\end{matrix}\\right]$"
      ],
      "text/plain": [
       "⎡0 ⎤\n",
       "⎢  ⎥\n",
       "⎢5 ⎥\n",
       "⎢  ⎥\n",
       "⎢0 ⎥\n",
       "⎢  ⎥\n",
       "⎢6 ⎥\n",
       "⎢  ⎥\n",
       "⎢-2⎥\n",
       "⎢  ⎥\n",
       "⎣6 ⎦"
      ]
     },
     "execution_count": 4,
     "metadata": {},
     "output_type": "execute_result"
    }
   ],
   "source": [
    "b = SEL[:, -1]\n",
    "print('Vector b: ')\n",
    "b"
   ]
  },
  {
   "cell_type": "markdown",
   "metadata": {},
   "source": [
    "# Evaluación del determinante de la matriz"
   ]
  },
  {
   "cell_type": "code",
   "execution_count": 5,
   "metadata": {
    "scrolled": true
   },
   "outputs": [
    {
     "name": "stdout",
     "output_type": "stream",
     "text": [
      "Determinante del sistema de ecuaciones: 2415\n"
     ]
    }
   ],
   "source": [
    "print('Determinante del sistema de ecuaciones:', A.det())"
   ]
  },
  {
   "cell_type": "markdown",
   "metadata": {},
   "source": [
    "# El sistema tiene una solución única\n",
    "\n",
    "Dado que al evaluar el determinante del SEL, se llegó a que este es distinto de 0, podemos afirmar que este tiene una única solución. Esto se sustenta en el hecho de que todas las filas son linealmente independientes entre sí, y por lo tanto, cada una es un vector para una base en $R^6$."
   ]
  },
  {
   "cell_type": "markdown",
   "metadata": {},
   "source": [
    "# Criterios de convergencia\n",
    "\n",
    "Para determinar si los métodos de aproximación convergen, primero debemos verificar que la matriz sea diagonalmente dominante. "
   ]
  },
  {
   "cell_type": "code",
   "execution_count": 6,
   "metadata": {},
   "outputs": [
    {
     "name": "stdout",
     "output_type": "stream",
     "text": [
      "La matriz no es diagonalmente dominante\n"
     ]
    }
   ],
   "source": [
    "def dd(X):\n",
    "    D = np.diag(np.abs(X)) # Encontrar coeficientes de la diagonal\n",
    "    S = np.sum(np.abs(X), axis=1) - D # Encontrar suma de las filas sin la diagonal\n",
    "    if np.all(D > S):\n",
    "        print('La matriz es diagonalmente dominante')\n",
    "    else:\n",
    "        print('La matriz no es diagonalmente dominante')\n",
    "    return\n",
    "\n",
    "dd(SEL)"
   ]
  },
  {
   "cell_type": "markdown",
   "metadata": {},
   "source": [
    "Sin embargo, el hecho de que la matriz dada por el SEL no sea Diagonalmente Dominante, no necesariamente implica que el método no converja. Así pues, debemos ahora aplicar otro criterio de convergencia distinto. El siguiente criterio de convergencia que aplicaremos será hallar el radio espectral de la matriz, el cual no es más que el valor absoluto mas grande de sus autovalores. Para calcular estos autovalores, usaremos métodos de la libreria numpy"
   ]
  },
  {
   "cell_type": "code",
   "execution_count": 7,
   "metadata": {
    "scrolled": false
   },
   "outputs": [
    {
     "name": "stdout",
     "output_type": "stream",
     "text": [
      "Radio espectral de la matriz:  6.414213562373098\n"
     ]
    }
   ],
   "source": [
    "print('Radio espectral de la matriz: ', np.max(np.absolute(np.linalg.eigvals(np.array(A, dtype = float)))))"
   ]
  },
  {
   "cell_type": "markdown",
   "metadata": {},
   "source": [
    "Vemos que el radio espectral de la matriz no cumple con el criterio de convergencia. Sin embargo, como vamos a ver más adelante, todos los métodos convergen. ¿A que se debe esto?: Muy sencillo, si reordenamos las filas del sistema de ecuaciones lineales, podremos llegar a una ordenación en la cual si se cumple el criterio de convergencia. Sin embargo, probar todas las posibilidades es computacionalmente costoso (se debe realizar un total de $6!$ factorial comprobaciones), por lo tanto, a partir de ahora vamos a suponer que los criterios si cumplen, pero para una ordenación distinta de la matriz."
   ]
  },
  {
   "cell_type": "markdown",
   "metadata": {},
   "source": [
    "# Método de Gauss - Seidel\n",
    "\n",
    "El primer método que vamos a explorar será el método de Gauss - Seidel. Este método consiste en despejar los valores de $x_{i}$ de la diagonal. Después, establecer una aproximación inicial, y a partir de esta empezar a iterar a través de los distintos valores que se van obteniendo cada vez que se reemplazan las variables por sus respectivos valores. Utilizaremos una norma de Frobbenius."
   ]
  },
  {
   "cell_type": "markdown",
   "metadata": {},
   "source": [
    "\n",
    "\n",
    "# Despejamos cada una de las variables de la diagonal principal\n",
    "\n",
    "Primero, debemos despejar cada uno de los valores de $x_{i}$ correspondientes a la diagonal principal. El caso en el que en la ecuación $i$ no encuentre el término $x_{i}$, la intercambiaremos con otra que si lo tenga. Obtenemos:\n",
    "\n",
    "$$x_{1} = \\dfrac{x_{2} + x_{4}}{4} $$\n",
    "\n",
    "$$x_{2} = \\dfrac{x_{1} + x_{3} + x_{5} + 5}{4} $$\n",
    "\n",
    "$$x_{3} = \\dfrac{x_{2} + x_{6}}{4} $$\n",
    "\n",
    "$$x_{4} = \\dfrac{x_{1} + x_{5} + 6}{4}$$\n",
    "\n",
    "\n",
    "$$x_{5} = \\dfrac{x_{2} + x_{4} + x_{6} - 2}{4}$$\n",
    "\n",
    "$$x_{6} = \\dfrac{x_{3} + x_{5} + 6}{4}$$"
   ]
  },
  {
   "cell_type": "markdown",
   "metadata": {},
   "source": [
    "# Descripción del algoritmo\n",
    "\n",
    "Primero debemos de elegir un valor inicial para $x_{i}$. En este caso, para todo $i$, $x_{i} = 0$. En particular, $x_{1} = 0$, $x_{2} = 0$, etc. Luego, el algoritmo consistira en ir reemplazando los respectivos valores de $x_{i}$ en cada uno de las ecuaciones. En cada iteración, cada $x_{i}$ se acercará a su respectiva solución. Ya que se trata de un SEL heterogéneo, podemos estar seguros que el algoritmo no se estancará en el valor $0$."
   ]
  },
  {
   "cell_type": "code",
   "execution_count": 8,
   "metadata": {
    "scrolled": true
   },
   "outputs": [
    {
     "name": "stdout",
     "output_type": "stream",
     "text": [
      "Valores del vector x: \n",
      "\n",
      "1.0000022276598879\n",
      "2.000001901426651\n",
      "1.0000008114845822\n",
      "2.0000013445116784\n",
      "1.000001147612502\n",
      "2.000000489774271\n"
     ]
    }
   ],
   "source": [
    "_x = {}\n",
    "\n",
    "for i in range(1, 7):\n",
    "    _x[str(i)] = i\n",
    "\n",
    "error = 1\n",
    "\n",
    "i = 1\n",
    "\n",
    "E = []\n",
    "I = []\n",
    "    \n",
    "while(error > 10e-6):\n",
    "\n",
    "    _x_anterior = np.array(list(_x.items()), dtype = float)[:, 1]\n",
    "    \n",
    "    _x['1'] = (_x['2'] + _x['4']) / 4\n",
    "    _x['2'] = (_x['1'] + _x['3'] + _x['5'] + 5) / 4\n",
    "    _x['3'] = (_x['2'] + _x['6']) / 4\n",
    "    _x['4'] = (_x['1'] + _x['5'] + 6) / 4\n",
    "    _x['5'] = (_x['2'] + _x['4'] + _x['6'] - 2) / 4\n",
    "    _x['6'] = (_x['3'] + _x['5'] + 6) / 4\n",
    "    \n",
    "    _x_actual  = np.array(list(_x.items()), dtype = float)[:, 1]\n",
    "    error = np.linalg.norm(_x_actual - _x_anterior)\n",
    "    \n",
    "    i += 1\n",
    "    \n",
    "    E.append(float(error))\n",
    "    I.append(i)\n",
    "\n",
    "E = np.array(E)\n",
    "I = np.array(I)    \n",
    "    \n",
    "print('Valores del vector x: \\n')\n",
    "    \n",
    "for i in range(1, 7):\n",
    "    print(_x[f'{i}'])"
   ]
  },
  {
   "cell_type": "markdown",
   "metadata": {},
   "source": [
    "# Gráfica del error con respecto a las iteraciones (Gauss - Seidel)"
   ]
  },
  {
   "cell_type": "code",
   "execution_count": 9,
   "metadata": {
    "scrolled": true
   },
   "outputs": [
    {
     "data": {
      "image/png": "[encoded data removed]",
      "text/plain": [
       "<Figure size 432x288 with 1 Axes>"
      ]
     },
     "metadata": {},
     "output_type": "display_data"
    }
   ],
   "source": [
    "plt.style.use('ggplot')\n",
    "plt.title('Iteraciones VS Norma del error')\n",
    "plt.xlabel('Iteraciones')\n",
    "plt.ylabel('Norma del error')\n",
    "plt.plot(I, E)\n",
    "plt.show()"
   ]
  },
  {
   "cell_type": "markdown",
   "metadata": {},
   "source": [
    "Comprobamos del gráfico anterior como la norma del error va decreciendo a medida que se realizan las iteraciones. Observamos que en tan solo 10 iteraciones, ya se logra una norma tal que $|A|<10^{-6}$. Además, comprobamos que el vector resultante $x$ es solución del SEL:"
   ]
  },
  {
   "cell_type": "code",
   "execution_count": 10,
   "metadata": {},
   "outputs": [
    {
     "data": {
      "text/latex": [
       "$\\displaystyle \\left[\\begin{matrix}0\\\\5.0\\\\0\\\\6.0\\\\-2.0\\\\6.0\\end{matrix}\\right]$"
      ],
      "text/plain": [
       "⎡ 0  ⎤\n",
       "⎢    ⎥\n",
       "⎢5.0 ⎥\n",
       "⎢    ⎥\n",
       "⎢ 0  ⎥\n",
       "⎢    ⎥\n",
       "⎢6.0 ⎥\n",
       "⎢    ⎥\n",
       "⎢-2.0⎥\n",
       "⎢    ⎥\n",
       "⎣6.0 ⎦"
      ]
     },
     "execution_count": 10,
     "metadata": {},
     "output_type": "execute_result"
    }
   ],
   "source": [
    "A = SEL[:, :-1]\n",
    "x = np.array(list(_x.items()), dtype = float)[:, 1]\n",
    "x = np.round(x, 2)\n",
    "x = Matrix(x)\n",
    "A*x"
   ]
  },
  {
   "cell_type": "markdown",
   "metadata": {},
   "source": [
    "# Método de Jacobi\n",
    "\n",
    "Ahora, utilizaremos el método de Jacobi para calcular los valores de $x_{i}$. Primero, debemos expresar la matriz $A$ de la siguiente forma:\n",
    "\n",
    "$$A = D - L - U, $$\n",
    "\n",
    "donde $D$ es una matriz diagonal, $L$ es una matriz triangular inferior y $U$ es una matriz triangular superior. Lo haremos usando la libreria numpy."
   ]
  },
  {
   "cell_type": "code",
   "execution_count": 11,
   "metadata": {},
   "outputs": [],
   "source": [
    "D = Matrix(np.diag(np.diag(A)))\n",
    "L = Matrix(np.tril(A) - D)\n",
    "U = Matrix(np.triu(A) - D)\n",
    "\n",
    "R = L + U\n",
    "\n",
    "D_inv = D.inv()"
   ]
  },
  {
   "cell_type": "markdown",
   "metadata": {},
   "source": [
    "# Descripción del algoritmo\n",
    "\n",
    "En este método, se itera en el vector $x$. Luego, la iteración $k + 1$ sobre el vector $x$ está definida como:\n",
    "\n",
    "$$x^{k+1} = D^{-1}(b - Rx^{k}),$$\n",
    "        \n",
    "donde $R = (L + U)$. Usaremos las herramientas de numpy y de sympy para realizar los cálculos matriciales. \n",
    "\n",
    "Dado que debemos dar una aproximación inicial para el vector $x$, haremos que todos los valores sean 0. A partir de ahí, empezará el algoritmo a iterar, basándose en la fórmula anterior."
   ]
  },
  {
   "cell_type": "code",
   "execution_count": 12,
   "metadata": {},
   "outputs": [],
   "source": [
    "x = Matrix(np.zeros((6, 1)))\n",
    "\n",
    "E = []\n",
    "I = []\n",
    "\n",
    "error = 1\n",
    "\n",
    "while(error > 10e-6):\n",
    "    \n",
    "    x_anterior = np.array(x, dtype = float)\n",
    "    \n",
    "    x = D_inv * (b - R*x)\n",
    "    \n",
    "    x_actual = np.array(x, dtype = float)\n",
    "    \n",
    "    error = np.linalg.norm(x_actual - x_anterior)\n",
    "    \n",
    "    i += 1\n",
    "    \n",
    "    E.append(float(error))\n",
    "    I.append(i)\n"
   ]
  },
  {
   "cell_type": "code",
   "execution_count": 13,
   "metadata": {
    "scrolled": false
   },
   "outputs": [
    {
     "name": "stdout",
     "output_type": "stream",
     "text": [
      "Valores del vector x: \n"
     ]
    },
    {
     "data": {
      "text/plain": [
       "array([[1.],\n",
       "       [2.],\n",
       "       [1.],\n",
       "       [2.],\n",
       "       [1.],\n",
       "       [2.]])"
      ]
     },
     "execution_count": 13,
     "metadata": {},
     "output_type": "execute_result"
    }
   ],
   "source": [
    "x = np.round(np.array(x, dtype = float), 3)\n",
    "\n",
    "print('Valores del vector x: ')\n",
    "x"
   ]
  },
  {
   "cell_type": "markdown",
   "metadata": {},
   "source": [
    "# Gráfica del error con respecto a las iteraciones (Jacobi)"
   ]
  },
  {
   "cell_type": "code",
   "execution_count": 14,
   "metadata": {
    "scrolled": false
   },
   "outputs": [
    {
     "data": {
      "image/png": "[encoded data removed]",
      "text/plain": [
       "<Figure size 432x288 with 1 Axes>"
      ]
     },
     "metadata": {},
     "output_type": "display_data"
    }
   ],
   "source": [
    "plt.style.use('ggplot')\n",
    "plt.title('Iteraciones VS Norma del error')\n",
    "plt.xlabel('Iteraciones')\n",
    "plt.ylabel('Norma del error')\n",
    "plt.plot(I, E)\n",
    "plt.show()"
   ]
  },
  {
   "cell_type": "markdown",
   "metadata": {},
   "source": [
    "# Sobre la velocidad de convergencia del método de Jacobi"
   ]
  },
  {
   "cell_type": "markdown",
   "metadata": {},
   "source": [
    "Luego de realizar alrededor de 35, llegamos a la convergencia para el método de Jacobi. Por lo tanto, facilmente comprobamos que el método de Jacobi también converge a una solución para el SEL, pero sin embargo, converge de forma más lenta que el método de Gauss - Seidel. Esto es debido a que mientras que el método de Gauss - Seidel usa los valores ya previamente calculados, en el método de Jacobi se han de volver a calcular por completo todas las entradas del vector $x$, lo cual ralentiza  la velocidad de convergencia."
   ]
  },
  {
   "cell_type": "code",
   "execution_count": 15,
   "metadata": {
    "scrolled": false
   },
   "outputs": [
    {
     "data": {
      "text/plain": [
       "array([[ 0.],\n",
       "       [ 5.],\n",
       "       [ 0.],\n",
       "       [ 6.],\n",
       "       [-2.],\n",
       "       [ 6.]])"
      ]
     },
     "execution_count": 15,
     "metadata": {},
     "output_type": "execute_result"
    }
   ],
   "source": [
    "np.round(np.array(A*x, dtype = float), 4)"
   ]
  },
  {
   "cell_type": "markdown",
   "metadata": {},
   "source": [
    "# Método SOR\n",
    "\n",
    "Ahora, usaremos el método SOR para resolver el SEL. El método SOR es muy parecido al método de Gauss - Seidel, con la única diferencia en que luego de calcular $x_{i}$, lo \"modificaremos\" con un parámetro de relajación $w$, mediante la siguiente fórmula:\n",
    "\n",
    "\n",
    "$$x_{i + 1} = wx_{i} + (1 - w)x_{i} $$"
   ]
  },
  {
   "cell_type": "markdown",
   "metadata": {},
   "source": [
    "# Descripción del algoritmo\n",
    "\n",
    "La descripción de este método es la misma que la de el método de Gauss - Seidel: Despejamos las variables, establecemos un valor inicial y vamos iterando a partir de este valor inicial cada uno de los valores de $x_{i}$. Sin embargo, dado que estamos trabajando con el método SOR, calcularemos también $x_{i}$ modificado con su respectivo parámetro de relajación. Para este caso, usaremos un parámetro de relajación $w = 4$."
   ]
  },
  {
   "cell_type": "markdown",
   "metadata": {},
   "source": [
    "# Sobre el parámetro de relajación \n",
    "\n",
    "La justificación para la elección de este parámetro de relajación, es que dado que el método de Gauss - Seidel está convergiendo, no es necesario tomar el parámetro en modo de sub - relajación (ya que este se usa cuando Gauss -Seidel no converge). Por lo tanto, usaremos un parámetro que se encuentra en $1$ y $2$. En consecuencia, $1 < w < 2$."
   ]
  },
  {
   "cell_type": "code",
   "execution_count": 23,
   "metadata": {
    "scrolled": false
   },
   "outputs": [
    {
     "name": "stdout",
     "output_type": "stream",
     "text": [
      "Valores del vector x: \n",
      "\n",
      "1.000002227659888\n",
      "2.000001901426651\n",
      "1.0000008114845822\n",
      "2.000001344511678\n",
      "1.0000011476125015\n",
      "2.000000489774271\n"
     ]
    }
   ],
   "source": [
    "_x = {}\n",
    "\n",
    "w = 1.5 # parámetro de relajación\n",
    "\n",
    "j = 1\n",
    "\n",
    "for i in range(1, 7):\n",
    "    _x[str(i)] = i\n",
    "\n",
    "error = 1\n",
    "\n",
    "i = 1\n",
    "\n",
    "E = []\n",
    "I = []\n",
    "    \n",
    "\n",
    "while(error > 10e-6): \n",
    "    \n",
    "    _x_anterior = np.array(list(_x.items()), dtype = float)[:, 1]\n",
    "\n",
    "    _x['1'] = (_x['2'] + _x['4']) / 4\n",
    "    \n",
    "    _x[str(j)] = _x[str(j)] * w + (1 - w) * _x[str(j)]\n",
    "    j += 1\n",
    "    \n",
    "    _x['2'] = (_x['1'] + _x['3'] + _x['5'] + 5) / 4\n",
    "    \n",
    "    _x[str(j)] = _x[str(j)] * w + (1 - w) * _x[str(j)]\n",
    "    j += 1\n",
    "    \n",
    "    _x['3'] = (_x['2'] + _x['6']) / 4\n",
    "    \n",
    "    _x[str(j)] = _x[str(j)] * w + (1 - w) * _x[str(j)]\n",
    "    j += 1\n",
    "    \n",
    "    _x['4'] = (_x['1'] + _x['5'] + 6) / 4\n",
    "    \n",
    "    _x[str(j)] = _x[str(j)] * w + (1 - w) * _x[str(j)]\n",
    "    j += 1\n",
    "    \n",
    "    _x['5'] = (_x['2'] + _x['4'] + _x['6'] - 2) / 4\n",
    "    \n",
    "    _x[str(j)] = _x[str(j)] * w + (1 - w) * _x[str(j)]\n",
    "    j += 1\n",
    "    \n",
    "    _x['6'] = (_x['3'] + _x['5'] + 6) / 4\n",
    "    \n",
    "    _x[str(j)] = _x[str(j)] * w + (1 - w) * _x[str(j)]\n",
    "    j = 1\n",
    "    \n",
    "    _x_actual  = np.array(list(_x.items()), dtype = float)[:, 1]\n",
    "    \n",
    "    error = np.linalg.norm(_x_actual - _x_anterior)\n",
    "    \n",
    "    i += 1\n",
    "    \n",
    "    E.append(float(error))\n",
    "    I.append(i)\n",
    "\n",
    "E = np.array(E)\n",
    "I = np.array(I)    \n",
    "\n",
    "print('Valores del vector x: \\n')\n",
    "    \n",
    "for i in range(1, 7):\n",
    "    print(_x[f'{i}'])"
   ]
  },
  {
   "cell_type": "markdown",
   "metadata": {},
   "source": [
    "Comprobamos que el vector anterior es solución para el SEL:"
   ]
  },
  {
   "cell_type": "code",
   "execution_count": 24,
   "metadata": {},
   "outputs": [
    {
     "data": {
      "text/latex": [
       "$\\displaystyle \\left[\\begin{matrix}0\\\\5.0\\\\0\\\\6.0\\\\-2.0\\\\6.0\\end{matrix}\\right]$"
      ],
      "text/plain": [
       "⎡ 0  ⎤\n",
       "⎢    ⎥\n",
       "⎢5.0 ⎥\n",
       "⎢    ⎥\n",
       "⎢ 0  ⎥\n",
       "⎢    ⎥\n",
       "⎢6.0 ⎥\n",
       "⎢    ⎥\n",
       "⎢-2.0⎥\n",
       "⎢    ⎥\n",
       "⎣6.0 ⎦"
      ]
     },
     "execution_count": 24,
     "metadata": {},
     "output_type": "execute_result"
    }
   ],
   "source": [
    "A = SEL[:, :-1]\n",
    "x = np.array(list(_x.items()), dtype = float)[:, 1]\n",
    "x = np.round(x, 2)\n",
    "x = Matrix(x)\n",
    "A*x"
   ]
  },
  {
   "cell_type": "code",
   "execution_count": 25,
   "metadata": {},
   "outputs": [
    {
     "data": {
      "image/png": "[encoded data removed]",
      "text/plain": [
       "<Figure size 432x288 with 1 Axes>"
      ]
     },
     "metadata": {},
     "output_type": "display_data"
    }
   ],
   "source": [
    "plt.style.use('ggplot')\n",
    "plt.title('Iteraciones VS Norma del error')\n",
    "plt.xlabel('Iteraciones')\n",
    "plt.ylabel('Norma del error')\n",
    "plt.plot(I, E)\n",
    "plt.show()"
   ]
  },
  {
   "cell_type": "markdown",
   "metadata": {},
   "source": [
    "# Sobre la convergencia del método SOR\n",
    "\n",
    "Vemos que solo se necesitan $16$ iteraciones para el método, ya que hemos elegido un parámetro de relajación adecuado, por lo que hemos optmizado satisfactoriamente el método de Gauss - Seidel."
   ]
  },
  {
   "cell_type": "markdown",
   "metadata": {},
   "source": [
    "# Conclusiones\n",
    "\n",
    "Basándonos en los resultados anteriores, podemos concluir el método SOR es el que ha dado un mejor rendimiento a la hora de converger a una solución para el SEL. Esto claramente se sustenta en el hecho de el método SOR no es más que una versión optimizada del método de Gauss - Seidel, y que en el método de Jacobi se necesita calcular todo un conjunto nuevo de variables, mientras que en los otros dos métodos se usan los valores ya calculados. \n",
    "\n"
   ]
  },
  {
   "cell_type": "markdown",
   "metadata": {},
   "source": [
    "# Link del vídeo \n",
    "\n",
    "https://youtu.be/OTz-y-sZ34A"
   ]
  },
  {
   "cell_type": "code",
   "execution_count": null,
   "metadata": {},
   "outputs": [],
   "source": []
  }
 ],
 "metadata": {
  "kernelspec": {
   "display_name": "Python 3",
   "language": "python",
   "name": "python3"
  },
  "language_info": {
   "codemirror_mode": {
    "name": "ipython",
    "version": 3
   },
   "file_extension": ".py",
   "mimetype": "text/x-python",
   "name": "python",
   "nbconvert_exporter": "python",
   "pygments_lexer": "ipython3",
   "version": "3.8.5"
  }
 },
 "nbformat": 4,
 "nbformat_minor": 4
}
