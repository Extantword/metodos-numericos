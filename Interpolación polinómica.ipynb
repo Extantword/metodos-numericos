{
 "cells": [
  {
   "cell_type": "markdown",
   "metadata": {},
   "source": [
    "# Interpolación polinómica\n",
    "\n",
    "En el presente cuaderno se realizará una exploración sobre la interpolación polinómica usando dos métodos: el método de Newton y el método de Lagrange."
   ]
  },
  {
   "cell_type": "markdown",
   "metadata": {},
   "source": [
    "# Importando librerias\n",
    "\n",
    "Importamos las librerias necesarias. En este caso, usaremos $numpy$ para el almacenamiento de los datos, $sympy$ para el álgebra computacional y $matplotlib$ para ver como se adecuan los polinomios a los distintos puntos."
   ]
  },
  {
   "cell_type": "code",
   "execution_count": 98,
   "metadata": {},
   "outputs": [
    {
     "name": "stdout",
     "output_type": "stream",
     "text": [
      "\n"
     ]
    }
   ],
   "source": [
    "import numpy as np\n",
    "from sympy import *\n",
    "init_session(quiet = True)\n",
    "import matplotlib.pyplot as plt\n",
    "plt.style.use('ggplot')\n",
    "%matplotlib inline"
   ]
  },
  {
   "cell_type": "markdown",
   "metadata": {},
   "source": [
    "# Almacenando los datos\n",
    "\n",
    "Guardamos los datos suministrados en el ejercicio en arreglos de numpy."
   ]
  },
  {
   "cell_type": "code",
   "execution_count": 99,
   "metadata": {},
   "outputs": [],
   "source": [
    "X = np.array([0,     1,      2,       3,       4,       5,       6,      8,      9,      10    ])\n",
    "Y = np.array([1, 0.54030, 0.41615, 0.98999, 0.65364, 0.28366, 0.9617, 0.1455, 0.91113, 0.83907 ])"
   ]
  },
  {
   "cell_type": "markdown",
   "metadata": {},
   "source": [
    "# Graficando los puntos\n",
    "\n",
    "En la siguiente gráfica, observamos como se distribuyen los puntos. Así pues, el objetivo de la interpolación polinómica será crear un polinomio que se adecue a los distintos valores suministrados."
   ]
  },
  {
   "cell_type": "code",
   "execution_count": 100,
   "metadata": {
    "scrolled": false
   },
   "outputs": [
    {
     "data": {
      "text/plain": [
       "<matplotlib.collections.PathCollection at 0x7f9370fe88b0>"
      ]
     },
     "execution_count": 100,
     "metadata": {},
     "output_type": "execute_result"
    },
    {
     "data": {
      "image/png": "[encoded data removed]",
      "text/plain": [
       "<Figure size 432x288 with 1 Axes>"
      ]
     },
     "metadata": {
      "needs_background": "light"
     },
     "output_type": "display_data"
    }
   ],
   "source": [
    "plt.scatter(X, Y, color = 'black')"
   ]
  },
  {
   "cell_type": "markdown",
   "metadata": {},
   "source": [
    "# Interpolación polinómica de Newton\n",
    "\n",
    "El método de la interpolación polínomica consiste en construir un polínomio a partir de las pendientes de los puntos suministrados. Estás pendientes, se pueden definir de forma recursiva de la siguiente forma:\n",
    "\n",
    "$$f_{i}(x_{0}, x_{1},..., x_{i}) = \\dfrac{f_{i-1}(x_{1},...,x_{i}) - f_{i-1}(x_{0}, x_{1},..., x_{i-1})}{x_{i} - x_{0}}$$\n",
    "\n",
    "Dado que tenemos que usar los indices de las pendientes anteriores, definiremos un método $indices$ para poder hacer más fácil las operaciones.\n",
    "\n"
   ]
  },
  {
   "cell_type": "markdown",
   "metadata": {},
   "source": [
    "# Método $indices$\n",
    "\n",
    "Este crea las distintas llaves de los diccionarios en los cuales se almacenaran las pendientes. Por lo tanto, para el caso $f_{1}(x_{1}, x_{2})$, se crean los indices $'x1x2'$ como llave del diccionario $f[1]$."
   ]
  },
  {
   "cell_type": "code",
   "execution_count": 101,
   "metadata": {},
   "outputs": [],
   "source": [
    "def indices(k, i):\n",
    "    \n",
    "    cadena = ''\n",
    "    \n",
    "    for j in range(k, i + 1):\n",
    "        \n",
    "        cadena = cadena + 'x' + str(j)\n",
    "        \n",
    "    return cadena"
   ]
  },
  {
   "cell_type": "markdown",
   "metadata": {},
   "source": [
    "# Cálculo de las pendientes\n",
    "\n",
    "En la siguiente celda de código, calculamos las pendientes de los distintos puntos suministrados, basándonos en la fórmula recursiva anterior."
   ]
  },
  {
   "cell_type": "code",
   "execution_count": 102,
   "metadata": {
    "scrolled": true
   },
   "outputs": [],
   "source": [
    "n = len(X)\n",
    "\n",
    "f = [{}]\n",
    "\n",
    "for j in range(n):\n",
    "    \n",
    "    f.append({})\n",
    "\n",
    "    for i in range(n - j):\n",
    "\n",
    "        if(j == 0):\n",
    "        \n",
    "            f[j]['x' + str(i)] = Y[i]\n",
    "            \n",
    "        else:\n",
    "            \n",
    "            f[j][indices(i, i + j)] = (f[j - 1][indices(i + 1, i + j)] \n",
    "                                       - f[j - 1][indices(i , i + (j - 1))]) / (X[i + j] - X[i])"
   ]
  },
  {
   "cell_type": "markdown",
   "metadata": {},
   "source": [
    "# Creación del polinomio\n",
    "\n",
    "Una vez hemos calculado las pendientes, podemos empezar a crear el polinomio de interpolación. Este también está dado por una fórmula recursiva, la cual es\n",
    "\n",
    "$$p_{i}(x) = p_{i-1} + f_{i}(x_{0}, ..., x_{i})\\prod_{j = 0}^{i-1}(x - x_{j})$$\n",
    "\n",
    "Esta productoria se calcula con el siguiente método."
   ]
  },
  {
   "cell_type": "code",
   "execution_count": 103,
   "metadata": {},
   "outputs": [],
   "source": [
    "def productoria(n, X):\n",
    "    \n",
    "    p = 1\n",
    "    \n",
    "    for i in range(n):\n",
    "        \n",
    "        p = p * (x - X[i])\n",
    "        \n",
    "    return p"
   ]
  },
  {
   "cell_type": "markdown",
   "metadata": {},
   "source": [
    "# Cálculo recursivo del polinomio\n",
    "\n",
    "Usando el método $productoria$ y las distintas pendientes calculadas, podemos entonces crear el polinomio de interpolación de Newton. El siguiente método aplica la fórmula ya mencionada anteriormente."
   ]
  },
  {
   "cell_type": "code",
   "execution_count": 104,
   "metadata": {
    "scrolled": false
   },
   "outputs": [],
   "source": [
    "p = f[0]['x0']\n",
    "\n",
    "for i in range(1, n):\n",
    "    \n",
    "    p = p + f[i][indices(0, i)] * productoria(i , X)"
   ]
  },
  {
   "cell_type": "markdown",
   "metadata": {},
   "source": [
    "# Polinomio resultante\n"
   ]
  },
  {
   "cell_type": "code",
   "execution_count": 105,
   "metadata": {
    "scrolled": true
   },
   "outputs": [
    {
     "name": "stdout",
     "output_type": "stream",
     "text": [
      "El polinomio de interpolación es: \n"
     ]
    },
    {
     "data": {
      "image/png": "[encoded data removed]",
      "text/latex": [
       "$\\displaystyle - 2.0106922398589 \\cdot 10^{-5} x \\left(x - 9\\right) \\left(x - 8\\right) \\left(x - 6\\right) \\left(x - 5\\right) \\left(x - 4\\right) \\left(x - 3\\right) \\left(x - 2\\right) \\left(x - 1\\right) - 6.34277998236332 \\cdot 10^{-5} x \\left(x - 8\\right) \\left(x - 6\\right) \\left(x - 5\\right) \\left(x - 4\\right) \\left(x - 3\\right) \\left(x - 2\\right) \\left(x - 1\\right) + 0.00124391319444444 x \\left(x - 6\\right) \\left(x - 5\\right) \\left(x - 4\\right) \\left(x - 3\\right) \\left(x - 2\\right) \\left(x - 1\\right) - 0.00935418055555556 x \\left(x - 5\\right) \\left(x - 4\\right) \\left(x - 3\\right) \\left(x - 2\\right) \\left(x - 1\\right) + 0.037128 x \\left(x - 4\\right) \\left(x - 3\\right) \\left(x - 2\\right) \\left(x - 1\\right) - 0.0821091666666667 x \\left(x - 3\\right) \\left(x - 2\\right) \\left(x - 1\\right) + 0.0604066666666667 x \\left(x - 2\\right) \\left(x - 1\\right) + 0.167775 x \\left(x - 1\\right) - 0.4597 x + 1.0$"
      ],
      "text/plain": [
       "-2.0106922398589e-5⋅x⋅(x - 9)⋅(x - 8)⋅(x - 6)⋅(x - 5)⋅(x - 4)⋅(x - 3)⋅(x - 2)⋅\n",
       "(x - 1) - 6.34277998236332e-5⋅x⋅(x - 8)⋅(x - 6)⋅(x - 5)⋅(x - 4)⋅(x - 3)⋅(x - 2\n",
       ")⋅(x - 1) + 0.00124391319444444⋅x⋅(x - 6)⋅(x - 5)⋅(x - 4)⋅(x - 3)⋅(x - 2)⋅(x -\n",
       " 1) - 0.00935418055555556⋅x⋅(x - 5)⋅(x - 4)⋅(x - 3)⋅(x - 2)⋅(x - 1) + 0.037128\n",
       "⋅x⋅(x - 4)⋅(x - 3)⋅(x - 2)⋅(x - 1) - 0.0821091666666667⋅x⋅(x - 3)⋅(x - 2)⋅(x -\n",
       " 1) + 0.0604066666666667⋅x⋅(x - 2)⋅(x - 1) + 0.167775⋅x⋅(x - 1) - 0.4597⋅x + 1\n",
       ".0"
      ]
     },
     "execution_count": 105,
     "metadata": {},
     "output_type": "execute_result"
    }
   ],
   "source": [
    "print('El polinomio de interpolación es: ')\n",
    "p"
   ]
  },
  {
   "cell_type": "markdown",
   "metadata": {},
   "source": [
    "# Sobre el polinomio\n",
    "\n",
    "El anterior es el polinomio obtenido con el método de interpolación de Newton. Verificaremos ahora que este polinomio si se adecua a los puntos suministrados."
   ]
  },
  {
   "cell_type": "code",
   "execution_count": 106,
   "metadata": {
    "scrolled": true
   },
   "outputs": [
    {
     "data": {
      "image/png": "[encoded data removed]",
      "text/plain": [
       "<Figure size 432x288 with 1 Axes>"
      ]
     },
     "metadata": {
      "needs_background": "light"
     },
     "output_type": "display_data"
    }
   ],
   "source": [
    "pol = lambdify(x, p)\n",
    "_X = np.linspace(0, 11, 500)\n",
    "plt.axis([-1, 11, -0.3, 3])\n",
    "plt.scatter(X, Y, color = 'black')\n",
    "plt.plot(_X, pol(_X))\n",
    "plt.title('Polinomio de interpolación de Newton')\n",
    "plt.xlabel('X')\n",
    "plt.ylabel('Y')\n",
    "\n",
    "plt.show()"
   ]
  },
  {
   "cell_type": "markdown",
   "metadata": {},
   "source": [
    "Vemos claramente que el polinomio se adecua a los datos suministrados. Ahora, realizaremos una predicción sobre el valor en $x=7$, usando el polinomio anteriormente conseguido."
   ]
  },
  {
   "cell_type": "code",
   "execution_count": 107,
   "metadata": {
    "scrolled": true
   },
   "outputs": [
    {
     "name": "stdout",
     "output_type": "stream",
     "text": [
      "Valor del polinomio en x = 7:  1.3461608333332649\n"
     ]
    }
   ],
   "source": [
    "print('Valor del polinomio en x = 7: ',pol(7))"
   ]
  },
  {
   "cell_type": "markdown",
   "metadata": {},
   "source": [
    "# Método de Lagrange\n",
    "\n",
    "Usaremos ahora el método de Lagrange para realizar la interpolación polinómica. Dado un conjunto de $k+1$ puntos, definimos el polinomio de interpolación $L(x)$ de la siguiente forma:\n",
    "\n",
    "$$L(x) = \\sum_{j=0}^{k}y_{j}\\ell_{j}(x),$$\n",
    "\n",
    "donde $\\ell_{j}(x)$ está definido como\n",
    "\n",
    "$$\\ell_{j}(x) = \\prod_{i=0,i\\neq j}^{k} \\dfrac{x-x_{i}}{x_{j} - x_{i}}.$$\n",
    "\n",
    "En los siguiente método se implementa esta fórmula."
   ]
  },
  {
   "cell_type": "code",
   "execution_count": 108,
   "metadata": {},
   "outputs": [],
   "source": [
    "L = []\n",
    "\n",
    "l = 1\n",
    "\n",
    "p = 0\n",
    "\n",
    "for i in range(n):\n",
    "\n",
    "    l = 1\n",
    "    \n",
    "    for j in range(n):\n",
    "\n",
    "        if(j != i):\n",
    "            l = l * (x - X[j]) / (X[i] - X[j])\n",
    "     \n",
    "    l = Y[i] * l\n",
    "    p = p + l        "
   ]
  },
  {
   "cell_type": "code",
   "execution_count": 109,
   "metadata": {
    "scrolled": true
   },
   "outputs": [
    {
     "name": "stdout",
     "output_type": "stream",
     "text": [
      "El polinomio de interpolación es: \n"
     ]
    },
    {
     "data": {
      "image/png": "[encoded data removed]",
      "text/latex": [
       "$\\displaystyle 8.93353174603175 \\cdot 10^{-6} x \\left(x - 10\\right) \\left(x - 9\\right) \\left(x - 8\\right) \\left(x - 6\\right) \\left(x - 5\\right) \\left(x - 4\\right) \\left(x - 3\\right) \\left(x - 2\\right) - 2.58029513888889 \\cdot 10^{-5} x \\left(x - 10\\right) \\left(x - 9\\right) \\left(x - 8\\right) \\left(x - 6\\right) \\left(x - 5\\right) \\left(x - 4\\right) \\left(x - 3\\right) \\left(x - 1\\right) + 0.000130951058201058 x \\left(x - 10\\right) \\left(x - 9\\right) \\left(x - 8\\right) \\left(x - 6\\right) \\left(x - 5\\right) \\left(x - 4\\right) \\left(x - 2\\right) \\left(x - 1\\right) - 0.000113479166666667 x \\left(x - 10\\right) \\left(x - 9\\right) \\left(x - 8\\right) \\left(x - 6\\right) \\left(x - 5\\right) \\left(x - 3\\right) \\left(x - 2\\right) \\left(x - 1\\right) + 3.93972222222222 \\cdot 10^{-5} x \\left(x - 10\\right) \\left(x - 9\\right) \\left(x - 8\\right) \\left(x - 6\\right) \\left(x - 4\\right) \\left(x - 3\\right) \\left(x - 2\\right) \\left(x - 1\\right) - 5.56539351851852 \\cdot 10^{-5} x \\left(x - 10\\right) \\left(x - 9\\right) \\left(x - 8\\right) \\left(x - 5\\right) \\left(x - 4\\right) \\left(x - 3\\right) \\left(x - 2\\right) \\left(x - 1\\right) + 1.80431547619048 \\cdot 10^{-6} x \\left(x - 10\\right) \\left(x - 9\\right) \\left(x - 6\\right) \\left(x - 5\\right) \\left(x - 4\\right) \\left(x - 3\\right) \\left(x - 2\\right) \\left(x - 1\\right) - 5.02166005291005 \\cdot 10^{-6} x \\left(x - 10\\right) \\left(x - 8\\right) \\left(x - 6\\right) \\left(x - 5\\right) \\left(x - 4\\right) \\left(x - 3\\right) \\left(x - 2\\right) \\left(x - 1\\right) + 6.93675595238095 \\cdot 10^{-7} x \\left(x - 9\\right) \\left(x - 8\\right) \\left(x - 6\\right) \\left(x - 5\\right) \\left(x - 4\\right) \\left(x - 3\\right) \\left(x - 2\\right) \\left(x - 1\\right) + 1.92901234567901 \\cdot 10^{-6} \\left(1 - x\\right) \\left(x - 10\\right) \\left(x - 9\\right) \\left(x - 8\\right) \\left(x - 6\\right) \\left(x - 5\\right) \\left(x - 4\\right) \\left(x - 3\\right) \\left(x - 2\\right)$"
      ],
      "text/plain": [
       "8.93353174603175e-6⋅x⋅(x - 10)⋅(x - 9)⋅(x - 8)⋅(x - 6)⋅(x - 5)⋅(x - 4)⋅(x - 3)\n",
       "⋅(x - 2) - 2.58029513888889e-5⋅x⋅(x - 10)⋅(x - 9)⋅(x - 8)⋅(x - 6)⋅(x - 5)⋅(x -\n",
       " 4)⋅(x - 3)⋅(x - 1) + 0.000130951058201058⋅x⋅(x - 10)⋅(x - 9)⋅(x - 8)⋅(x - 6)⋅\n",
       "(x - 5)⋅(x - 4)⋅(x - 2)⋅(x - 1) - 0.000113479166666667⋅x⋅(x - 10)⋅(x - 9)⋅(x -\n",
       " 8)⋅(x - 6)⋅(x - 5)⋅(x - 3)⋅(x - 2)⋅(x - 1) + 3.93972222222222e-5⋅x⋅(x - 10)⋅(\n",
       "x - 9)⋅(x - 8)⋅(x - 6)⋅(x - 4)⋅(x - 3)⋅(x - 2)⋅(x - 1) - 5.56539351851852e-5⋅x\n",
       "⋅(x - 10)⋅(x - 9)⋅(x - 8)⋅(x - 5)⋅(x - 4)⋅(x - 3)⋅(x - 2)⋅(x - 1) + 1.80431547\n",
       "619048e-6⋅x⋅(x - 10)⋅(x - 9)⋅(x - 6)⋅(x - 5)⋅(x - 4)⋅(x - 3)⋅(x - 2)⋅(x - 1) -\n",
       " 5.02166005291005e-6⋅x⋅(x - 10)⋅(x - 8)⋅(x - 6)⋅(x - 5)⋅(x - 4)⋅(x - 3)⋅(x - 2\n",
       ")⋅(x - 1) + 6.93675595238095e-7⋅x⋅(x - 9)⋅(x - 8)⋅(x - 6)⋅(x - 5)⋅(x - 4)⋅(x -\n",
       " 3)⋅(x - 2)⋅(x - 1) + 1.92901234567901e-6⋅(1 - x)⋅(x - 10)⋅(x - 9)⋅(x - 8)⋅(x \n",
       "- 6)⋅(x - 5)⋅(x - 4)⋅(x - 3)⋅(x - 2)"
      ]
     },
     "execution_count": 109,
     "metadata": {},
     "output_type": "execute_result"
    }
   ],
   "source": [
    "print('El polinomio de interpolación es: ')\n",
    "p"
   ]
  },
  {
   "cell_type": "code",
   "execution_count": 110,
   "metadata": {},
   "outputs": [],
   "source": [
    "p = lambdify(x, p)"
   ]
  },
  {
   "cell_type": "markdown",
   "metadata": {},
   "source": [
    "# Sobre el polinomio\n",
    "\n",
    "El anterior es el polinomio obtenido con el método de interpolación de Lagrange. Verificaremos ahora que este polinomio si se adecua a los puntos suministrados.\n"
   ]
  },
  {
   "cell_type": "code",
   "execution_count": 111,
   "metadata": {
    "scrolled": true
   },
   "outputs": [
    {
     "data": {
      "image/png": "[encoded data removed]",
      "text/plain": [
       "<Figure size 432x288 with 1 Axes>"
      ]
     },
     "metadata": {
      "needs_background": "light"
     },
     "output_type": "display_data"
    }
   ],
   "source": [
    "_X = np.linspace(0, 11, 500)\n",
    "plt.title('Polinomio de interpolación de Lagrange')\n",
    "plt.xlabel('X')\n",
    "plt.ylabel('Y')\n",
    "plt.axis([-1, 11, -0.3, 3])\n",
    "plt.plot(_X, pol(_X), color = 'blue')\n",
    "plt.scatter(X, Y, color = 'black')\n",
    "plt.show()"
   ]
  },
  {
   "cell_type": "markdown",
   "metadata": {},
   "source": [
    "Vemos claramente que el polinomio se adecua a los datos suministrados. Ahora, realizaremos una predicción sobre el valor en $x=7$, usando el polinomio anteriormente conseguido."
   ]
  },
  {
   "cell_type": "code",
   "execution_count": 112,
   "metadata": {},
   "outputs": [
    {
     "name": "stdout",
     "output_type": "stream",
     "text": [
      "Valor del polinomio en x = 7:  1.3461608333333392\n"
     ]
    }
   ],
   "source": [
    "print('Valor del polinomio en x = 7: ',p(7))"
   ]
  },
  {
   "cell_type": "markdown",
   "metadata": {},
   "source": [
    "# Análisis de resultados\n",
    "\n",
    "Ambos métodos nos dan interpolaciones muy buenas para el conjunto de datos suministrados. Sin embargo, mientras que el polinomio de newton requiere una gran cantidad de cálculos en cuanto a las pendientes, además de que tiene una considerable complejidad algorítmica, el método de lagrange nos permite construir el polinomio con un algoritmo mas sencillo, y sin la necesidad de usar métodos auxiliares."
   ]
  }
 ],
 "metadata": {
  "kernelspec": {
   "display_name": "Python 3",
   "language": "python",
   "name": "python3"
  },
  "language_info": {
   "codemirror_mode": {
    "name": "ipython",
    "version": 3
   },
   "file_extension": ".py",
   "mimetype": "text/x-python",
   "name": "python",
   "nbconvert_exporter": "python",
   "pygments_lexer": "ipython3",
   "version": "3.8.5"
  }
 },
 "nbformat": 4,
 "nbformat_minor": 4
}
