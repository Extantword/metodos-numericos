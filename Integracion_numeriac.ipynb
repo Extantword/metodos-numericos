{
 "cells": [
  {
   "cell_type": "markdown",
   "metadata": {},
   "source": [
    "# Integración numérica\n",
    "\n",
    "En el presente cuaderno se realizará una exploración en métodos de integración mediante métodos numéricos."
   ]
  },
  {
   "cell_type": "code",
   "execution_count": 2,
   "metadata": {},
   "outputs": [
    {
     "name": "stdout",
     "output_type": "stream",
     "text": [
      "\n"
     ]
    }
   ],
   "source": [
    "from sympy import *\n",
    "import numpy as np\n",
    "init_session(quiet = True)"
   ]
  },
  {
   "cell_type": "markdown",
   "metadata": {},
   "source": [
    "# Sobre la integración númerica\n",
    "\n",
    "Sabemos por el teorema fundamental del cálculo, que podemos hallar el área de una función $f(x)$ si hallamos una antiderivada para la función. En símbolos \n",
    "\n",
    "$$\\int_{a}^{b}f(x)\\,dx = F(b) - F(a).$$\n",
    "\n",
    "Sin embargo, la mayoría de los casos, encontrar una antiderivada puede no ser posible (ni siquiera usando sistemas de álgebra computacional). En ese caso, se debe recurrer a métodos numéricos que nos permitan aproximar el área debajo de la curva entre los límites de integración requeridos. Así pues, pondremos nuestra atención en la integral\n",
    "\n",
    "$$\\int_{1}^{3}2ln(3x)\\,dx.$$\n",
    "\n",
    "Definiremos esta función y los límites de integración en la siguiente celda de código."
   ]
  },
  {
   "cell_type": "code",
   "execution_count": 3,
   "metadata": {},
   "outputs": [],
   "source": [
    "def f(x): return 2 * np.log(3*x)\n",
    "    \n",
    "lim_inf = 1\n",
    "lim_sup = 3"
   ]
  },
  {
   "cell_type": "markdown",
   "metadata": {},
   "source": [
    "# Hallando el área real bajo la curva\n",
    "\n",
    "Para tener una idea aproximada de que tan bien están actuando los métodos de integración numérica, a continuación calcularemos el área real bajo la curva, usando la libreria de álgebra computacional $Sympy$."
   ]
  },
  {
   "cell_type": "code",
   "execution_count": 4,
   "metadata": {
    "scrolled": true
   },
   "outputs": [
    {
     "name": "stdout",
     "output_type": "stream",
     "text": [
      "Area real:  6.98612288668110\n"
     ]
    }
   ],
   "source": [
    "area_real = integrate(2*log(3*x), (x, 1, 3)).evalf()\n",
    "print('Area real: ', area_real)"
   ]
  },
  {
   "cell_type": "markdown",
   "metadata": {},
   "source": [
    "# Regla del trapecio\n",
    "\n",
    "La regla del trapecio nos permite aproximar la función creando un trapecio el cual se aproxime a la forma real de la función. La fórmula para esta aproximación está dada por \n",
    "\n",
    "$$\\int_{a}^{b}f(x)\\,dx \\approx (b-a)\\dfrac{f(a) + f(b)}{2},$$\n",
    "\n",
    "la cual está codificada en la siguiente celda de código."
   ]
  },
  {
   "cell_type": "code",
   "execution_count": 9,
   "metadata": {},
   "outputs": [],
   "source": [
    "def regla_trapecio_simple(f, a, b):\n",
    "\n",
    "    return (b - a) * (f(a) + f(b)) / 2"
   ]
  },
  {
   "cell_type": "markdown",
   "metadata": {},
   "source": [
    "# Regla del trapecio compuesta\n",
    "\n",
    "Para mejorar la aproximación dada por la regla del trapecio, podemos aplicarla a $n$ subintervalos dentro del intervalo $[a, b]$. Podemos escribir en símbolos \n",
    "\n",
    "$$\\int_{a}^{b}f(x)\\,dx \\approx \\dfrac{b-a}{n}  \\left[ \\dfrac{f(a) + f(b)}{2} + \\sum_{k=1}^{n-1}f\\left(a + k\\dfrac{b-a}{n}\\right) \\right].$$\n",
    "\n",
    "Esta fórmula está dada en la siguiente celda de código."
   ]
  },
  {
   "cell_type": "code",
   "execution_count": 10,
   "metadata": {},
   "outputs": [],
   "source": [
    "def regla_trapecio_compuesta(f, a, b, n):\n",
    "    \n",
    "    h = (b - a) / n\n",
    "    \n",
    "    suma = 0\n",
    "    \n",
    "    for i in range(n):\n",
    "        \n",
    "        suma += regla_trapecio(f, a + (i * h), a + (i + 1) * h)\n",
    "        \n",
    "    return suma  "
   ]
  },
  {
   "cell_type": "markdown",
   "metadata": {},
   "source": [
    "# Aproximando el área con la regla del trapecio\n",
    "\n",
    "#### Usando la regla simple\n"
   ]
  },
  {
   "cell_type": "code",
   "execution_count": 11,
   "metadata": {
    "scrolled": true
   },
   "outputs": [
    {
     "name": "stdout",
     "output_type": "stream",
     "text": [
      "Área usando regla del trapecio simple:  6.591673732008658\n"
     ]
    }
   ],
   "source": [
    "print('Área usando regla del trapecio simple: ', regla_trapecio_simple(f, lim_inf, lim_sup))"
   ]
  },
  {
   "cell_type": "markdown",
   "metadata": {},
   "source": [
    "#### Usando la regla compuesta"
   ]
  },
  {
   "cell_type": "code",
   "execution_count": 15,
   "metadata": {},
   "outputs": [
    {
     "name": "stdout",
     "output_type": "stream",
     "text": [
      "Área usando regla del trapecio compuesta: \n",
      "\n",
      "Con n = 6:  6.973841244346239\n",
      "\n",
      "Con n = 12:  6.983040561656518\n"
     ]
    }
   ],
   "source": [
    "print('Área usando regla del trapecio compuesta: ')\n",
    "print('\\nCon n = 6: ', regla_trapecio_compuesta(f, lim_inf, lim_sup, 6))\n",
    "print('\\nCon n = 12: ', regla_trapecio_compuesta(f, lim_inf, lim_sup, 12))"
   ]
  },
  {
   "cell_type": "markdown",
   "metadata": {},
   "source": [
    "# Análisis de resultados de la regla del trapecio\n",
    "\n",
    "Recordemos que el área real de la función es $A = 6.98612288668110\n",
    "$.\n",
    "\n",
    "Observamos que al usar la regla simple, obtenemos una aproximación que se desvia bastante del valor real de la función. Sin embargo, al usar las reglas compuestas, obtenemos aproximaciones bastante mejores. Esto se debe a que mientras que con la regla simple solo estamos usando $1$ trapecio, con la regla compuesta estamos usando $6$ y $12$ trapecios, por lo que podemos aproximar con más exactitud el área bajo la curva. El resultado que nos da una mejor aproximación es $n = 12$, puesto que al usar mas trapecios, estamos mejorando la aproximación para cada subintervalo."
   ]
  },
  {
   "cell_type": "markdown",
   "metadata": {},
   "source": [
    "# Regla de Simpson 1/3\n",
    "\n",
    "Consiste en usar polinomios de segundo grado para conectar puntos puntos sucesivos de la función. Luego, calcular el área bajo la curva dada por estas parábolas. Está aproximación viene dada por la siguiente fórmula\n",
    "\n",
    "$$\\int_{a}^{b}f(x)\\,dx \\approx \\dfrac{h}{3}\\left[ f(a) + 4f\\left( \\dfrac{a + b}{2} \\right) + f(b) \\right],$$\n",
    "\n",
    "donde $h = \\dfrac{b-a}{2}.$\n",
    "\n",
    "Esta fórmula está codificada en la siguiente celda."
   ]
  },
  {
   "cell_type": "code",
   "execution_count": 17,
   "metadata": {},
   "outputs": [],
   "source": [
    "def regla_simpson_ut_simple(f, a, b):\n",
    "        \n",
    "    h = (b - a) / 2\n",
    "        \n",
    "    return (h / 3) * (f(a) + 4*f((a + b) / 2) + f(b))"
   ]
  },
  {
   "cell_type": "markdown",
   "metadata": {},
   "source": [
    "# Regla de Simpson 1/3 compuesta\n",
    "\n",
    "Para la regla de simpson $1/3$ compuesta, aplicamos la misma regla en n subintervalos de $[a, b]$. Este razonamiento se puede expresar de la siguiente forma."
   ]
  },
  {
   "cell_type": "code",
   "execution_count": 18,
   "metadata": {},
   "outputs": [],
   "source": [
    "def regla_simpson_ut_compuesta(f, a, b, n):\n",
    "    \n",
    "    h = (b - a) / n\n",
    "    \n",
    "    suma = 0\n",
    "    \n",
    "    for i in range(n):\n",
    "        \n",
    "        suma += regla_simpson_ut_simple(f, a + (i * h), a + (i + 1) * h)\n",
    "        \n",
    "    return suma  "
   ]
  },
  {
   "cell_type": "markdown",
   "metadata": {},
   "source": [
    "# Aproximando el área con la Regla de Simpson 1/3\n",
    "\n",
    "#### Usando la regla simple"
   ]
  },
  {
   "cell_type": "code",
   "execution_count": 19,
   "metadata": {
    "scrolled": true
   },
   "outputs": [
    {
     "name": "stdout",
     "output_type": "stream",
     "text": [
      "Área usando regla del de Simpson 1/3 simple:  6.975249828611032\n"
     ]
    }
   ],
   "source": [
    "print('Área usando regla del de Simpson 1/3 simple: ', regla_simpson_ut_simple(f, lim_inf, lim_sup))"
   ]
  },
  {
   "cell_type": "code",
   "execution_count": 21,
   "metadata": {},
   "outputs": [
    {
     "name": "stdout",
     "output_type": "stream",
     "text": [
      "Área usando regla de Simpson 1/3 compuesta: \n",
      "\n",
      "Con n = 6:  6.986107000759944\n",
      "\n",
      "Con n = 12:  6.986121865063358\n"
     ]
    }
   ],
   "source": [
    "print('Área usando regla de Simpson 1/3 compuesta: ')\n",
    "print('\\nCon n = 6: ', regla_simpson_ut_compuesta(f, lim_inf, lim_sup, 6))\n",
    "print('\\nCon n = 12: ', regla_simpson_ut_compuesta(f, lim_inf, lim_sup, 12))"
   ]
  },
  {
   "cell_type": "markdown",
   "metadata": {},
   "source": [
    "# Análisis de resultados de la Regla de Simpson 1/3\n",
    "\n",
    "Recordemos que el área real de la función es $A = 6.98612288668110\n",
    "$.\n",
    "\n",
    "Observamos que aún con la regla simple, obtenemos una excelente aproximación (mucho mejor que con la regla del trapecio simple). Evidentemente, con la regla compuesta, obtenemos aproximaciones mucho mejores. Es remarcable ver lo buenas que son estas aproximaciones, especialmente en el caso $n = 12$, donde podemos llegar a una exactitud de hasta $5$ cifras decimales."
   ]
  },
  {
   "cell_type": "markdown",
   "metadata": {},
   "source": [
    "# Regla de simpson 3/8\n",
    "\n",
    "En este caso, en lugar de usar parábolas, usaremos polinomios de tercer grado para aproximar la función. La fórmula para esta aproximación está dada por \n",
    "\n",
    "$$\\int_{a}^{b}f(x)\\,dx \\approx  \\dfrac{3h}{8}\\left[ f(a) + 3f\\left( \\dfrac{2a + b}{3} \\right) + 3f\\left( \\dfrac{a + 2b}{3} \\right) + f(b) \\right],$$\n",
    "\n",
    "donde $h = \\dfrac{b - a}{3}$.\n",
    "\n",
    "Esta fórmula está expresada en la siguiente celda."
   ]
  },
  {
   "cell_type": "code",
   "execution_count": null,
   "metadata": {},
   "outputs": [],
   "source": [
    "def regla_simpson_to_simple(f, a, b):\n",
    "    \n",
    "    h = (b - a) / 3\n",
    "    \n",
    "    return (3*h / 8) * (f(a) + 3*f((2*a + b) / 3) + 3*f((a + 2*b) / 3) + f(b))"
   ]
  },
  {
   "cell_type": "markdown",
   "metadata": {},
   "source": [
    "# Regla de Simpson 3/8 compuesta\n",
    "\n",
    "Al igual que en las anteriores reglas, esta regla consiste en aplicar la regla de Simpson $3/8$ en $n$ subintervalos de $[a,b]$. De esta forma, estamos aproximando el área de la función usando $n$ polinomios de tercer grado. Esta regla está dada en la siguiente celda de código."
   ]
  },
  {
   "cell_type": "code",
   "execution_count": null,
   "metadata": {},
   "outputs": [],
   "source": [
    "def regla_simpson_to_compuesta(f, a, b, n):\n",
    "    \n",
    "    h = (b - a) / n\n",
    "    \n",
    "    suma = 0\n",
    "    \n",
    "    for i in range(n):\n",
    "        \n",
    "        suma += regla_simpson_to_simple(f, a + (i * h), a + (i + 1) * h)\n",
    "        \n",
    "    return suma  "
   ]
  },
  {
   "cell_type": "markdown",
   "metadata": {},
   "source": [
    "# Aproximando el área con la Regla de Simpson 3/8\n",
    "\n",
    "#### Usando la regla simple"
   ]
  },
  {
   "cell_type": "code",
   "execution_count": 22,
   "metadata": {},
   "outputs": [
    {
     "name": "stdout",
     "output_type": "stream",
     "text": [
      "Área usando regla del de Simpson 3/8 simple:  6.980940525236285\n"
     ]
    }
   ],
   "source": [
    "print('Área usando regla del de Simpson 3/8 simple: ', regla_simpson_to_simple(f, lim_inf, lim_sup))"
   ]
  },
  {
   "cell_type": "code",
   "execution_count": 23,
   "metadata": {},
   "outputs": [
    {
     "name": "stdout",
     "output_type": "stream",
     "text": [
      "Área usando regla de Simpson 3/8 compuesta: \n",
      "\n",
      "Con n = 6:  6.986115796097929\n",
      "\n",
      "Con n = 12:  6.9861224321201965\n"
     ]
    }
   ],
   "source": [
    "print('Área usando regla de Simpson 3/8 compuesta: ')\n",
    "print('\\nCon n = 6: ', regla_simpson_to_compuesta(f, lim_inf, lim_sup, 6))\n",
    "print('\\nCon n = 12: ', regla_simpson_to_compuesta(f, lim_inf, lim_sup, 12))"
   ]
  },
  {
   "cell_type": "markdown",
   "metadata": {},
   "source": [
    "# Análisis de resultados de la Regla de Simpson 3/8\n",
    "\n",
    "Al igual que con la regla anterior, con la regla de Simpson 3/8 obtenemos excelentes resultados a la hora de aproximar el área de la función. Como era de esperarse, obtenemos una aproximación muy buena al usar la regla de Simpson compuesta con $n = 12$, siendo esta la mejor aproximación que hemos obtenido hasta el momento."
   ]
  },
  {
   "cell_type": "markdown",
   "metadata": {},
   "source": [
    "# Análisis final de resultados\n",
    "\n",
    "Hemos observado que con todas las distintas reglas hemos obtenido resultados muy aproximados al área real de la función. El método que dió mejores resultados fue la Regla de Simpson $3/8$ con $n = 12$. Con $n$ mayor, se pueden conseguir aproximaciones con la exactitud que se requiera. \n",
    "\n",
    "En general, es más eficiente usar integración numérica, ya que encontrar una antiderivada puede ser computacionalmente costoso, mientras que con solo unas cuantas iteraciones de estos métodos, podemos obtener resultados considerables. "
   ]
  }
 ],
 "metadata": {
  "kernelspec": {
   "display_name": "Python 3",
   "language": "python",
   "name": "python3"
  },
  "language_info": {
   "codemirror_mode": {
    "name": "ipython",
    "version": 3
   },
   "file_extension": ".py",
   "mimetype": "text/x-python",
   "name": "python",
   "nbconvert_exporter": "python",
   "pygments_lexer": "ipython3",
   "version": "3.8.5"
  }
 },
 "nbformat": 4,
 "nbformat_minor": 4
}
